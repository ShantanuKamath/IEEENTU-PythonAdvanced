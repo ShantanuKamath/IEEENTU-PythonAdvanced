{
 "cells": [
  {
   "cell_type": "markdown",
   "metadata": {},
   "source": [
    "# Python Basics\n",
    "***Disclaimer*** *-* *This document is only meant to serve as a reference for the attendees of the workshop. It does not cover all the concepts or implementation details discussed during the actual workshop. The content of this notebook was taken from [Python Basics Workshop - Suyash Lakhotia](https://github.com/SuyashLakhotia/IEEENTU-PythonBasics)*\n",
    "\n",
    "### Python what?!\n",
    "\n",
    "- Python is a general purpose **programming language**. Other examples include Java, C, C++ etc.\n",
    "- It is known for its remarkable power coupled with readable *syntax*.\n",
    "    - The *syntax* of a programming language is the set of rules that defines the combinations of symbols that are considered to be correctly structured pieces of code. Think: Spelling & Grammar.\n",
    "- It is one of the easiest programming languages to learn but is also one of the most powerful languages, used heavily in Machine learning and Data Science.\n",
    "- Python code is executed line-by-line in a sequential fashion.\n",
    "------"
   ]
  },
  {
   "cell_type": "markdown",
   "metadata": {},
   "source": [
    "## Basic Syntax Simplicity"
   ]
  },
  {
   "cell_type": "code",
   "execution_count": null,
   "metadata": {
    "collapsed": true
   },
   "outputs": [],
   "source": [
    "print(\"This is an example of Python code.\")\n",
    "print()\n",
    "a = int(input(\"Enter a value for a: \"))\n",
    "b = int(input(\"Enter a value for b: \"))\n",
    "print(\"The sum of a & b is: \" + str(a + b))  # print the sum of a & b"
   ]
  },
  {
   "cell_type": "markdown",
   "metadata": {},
   "source": [
    "**Statement:** Each line of code in a Python program is called a statement. Python interprets statements and runs them one by one.\n",
    "\n",
    "**Comments:** The `#` symbol indicates a comment and anything after `#` is ignored by the computer. Comments provide information to improve code readability.\n",
    "\n",
    "**Built-in Functions:** Python comes with many built-in functions like `print()` & `input()` to help you in writing your code.\n",
    "\n",
    "------\n",
    "\n",
    "## Variables\n",
    "\n",
    "### What are variables?\n",
    "\n",
    "Recall variables from algebra — `x = 5`. In programming, variables are used to store data temporarily to make it easier to refer to them. The value referred to by a variable can be updated as you execute the program using the *assignment operator* i.e. `=`."
   ]
  },
  {
   "cell_type": "code",
   "execution_count": 2,
   "metadata": {},
   "outputs": [
    {
     "name": "stdout",
     "output_type": "stream",
     "text": [
      "4\n"
     ]
    }
   ],
   "source": [
    "a = 3       # simple assignment\n",
    "a = a + 1   # RHS is evaluated first\n",
    "print(a)    # 4"
   ]
  },
  {
   "cell_type": "markdown",
   "metadata": {},
   "source": [
    "There are four basic data types in Python:\n",
    "\n",
    "1. **Integer -** Whole numbers. E.g. `1`, `123`, `89`\n",
    "2. **Float -** Floating decimal point numbers. E.g. `1.3`, `82.4`, `3.14159…`\n",
    "3. **String -** Sequence of characters. E.g. `a`, `abc`, `abc def`\n",
    "4. **Boolean -** Two possible values — `True` or `False`."
   ]
  },
  {
   "cell_type": "code",
   "execution_count": 3,
   "metadata": {
    "collapsed": true
   },
   "outputs": [],
   "source": [
    "a = 5\n",
    "b = 4.3\n",
    "c = \"Hello, world\"\n",
    "d = True"
   ]
  },
  {
   "cell_type": "markdown",
   "metadata": {},
   "source": [
    "It is possible to convert a variable from one type to another if the conversion is compatible. For example, converting `\"123\"` (string) to `123` (integer) is possible but `\"hello\"` cannot be converted to an integer.\n"
   ]
  },
  {
   "cell_type": "code",
   "execution_count": 4,
   "metadata": {
    "collapsed": true
   },
   "outputs": [],
   "source": [
    "strA = \"123\"\n",
    "intA = int(strA)      # 123\n",
    "floatA = float(strA)  # 123.0"
   ]
  },
  {
   "cell_type": "markdown",
   "metadata": {},
   "source": [
    "------\n",
    "### Printing Variables\n",
    "\n",
    "In Python, we can print text onto the *console* using the `print()` function.\n"
   ]
  },
  {
   "cell_type": "code",
   "execution_count": 5,
   "metadata": {},
   "outputs": [
    {
     "name": "stdout",
     "output_type": "stream",
     "text": [
      "Hello, world\n",
      "5\n",
      "The value of 'a' is: 5\n"
     ]
    }
   ],
   "source": [
    "print(\"Hello, world\")\n",
    "\n",
    "a = 5\n",
    "print(a)\n",
    "print(\"The value of 'a' is: \" + str(a))"
   ]
  },
  {
   "cell_type": "markdown",
   "metadata": {},
   "source": [
    "------\n",
    "### Getting User Input\n",
    "\n",
    "In Python, we can get input from the user and store this in variables using the `input()` function. The function prints whatever prompt is passed to it and waits for the user input. Once the `Enter` key is pressed, it stores the user input into the variable **as a string**.\n"
   ]
  },
  {
   "cell_type": "code",
   "execution_count": 6,
   "metadata": {},
   "outputs": [
    {
     "name": "stdout",
     "output_type": "stream",
     "text": [
      "Enter your name: Shantanu\n",
      "Shantanu\n",
      "Enter your age: 21\n",
      "21\n"
     ]
    }
   ],
   "source": [
    "name = input(\"Enter your name: \")\n",
    "print(name)\n",
    "\n",
    "age = int(input(\"Enter your age: \"))\n",
    "print(age)"
   ]
  },
  {
   "cell_type": "markdown",
   "metadata": {},
   "source": [
    "------\n",
    "### Arithmetic Operations\n",
    "\n",
    "Variables can be used to perform simple arithmetic operations. For example:"
   ]
  },
  {
   "cell_type": "code",
   "execution_count": 7,
   "metadata": {
    "collapsed": true
   },
   "outputs": [],
   "source": [
    "a = 4\n",
    "b = 5\n",
    "c = a + b\t# addition\n",
    "d = a - b\t# subtraction\n",
    "e = a * b\t# multiplication\n",
    "f = a / b\t# division\n",
    "g = a % b\t# modulus (remainder)"
   ]
  },
  {
   "cell_type": "markdown",
   "metadata": {},
   "source": [
    "------\n",
    "### Strings\n",
    "\n",
    "Strings represent a sequence of one or more characters. Each character can be accessed separately using a zero-based index."
   ]
  },
  {
   "cell_type": "markdown",
   "metadata": {},
   "source": [
    "~~~\n",
    "H  e  l  l  o  \n",
    "0  1  2  3  4\n",
    "~~~"
   ]
  },
  {
   "cell_type": "code",
   "execution_count": 8,
   "metadata": {},
   "outputs": [
    {
     "name": "stdout",
     "output_type": "stream",
     "text": [
      "e\n",
      "5\n",
      "Hello, world\n"
     ]
    }
   ],
   "source": [
    "s = \"Hello\"\n",
    "print(s[1])\n",
    "print(len(s))\n",
    "print(s + \", world\")"
   ]
  },
  {
   "cell_type": "markdown",
   "metadata": {},
   "source": [
    "Python comes with a lot of useful built-in *methods* for strings.\n"
   ]
  },
  {
   "cell_type": "code",
   "execution_count": 9,
   "metadata": {},
   "outputs": [
    {
     "data": {
      "text/plain": [
       "'Hello'"
      ]
     },
     "execution_count": 9,
     "metadata": {},
     "output_type": "execute_result"
    }
   ],
   "source": [
    "s.lower()                   # returns lowercase version of string\n",
    "s.upper()                   # returns uppercase version of string\n",
    "s.find(\"abc\")               # searches the string for \"abc\" and returns the first index where it begins or -1\n",
    "s.replace(\"old\", \"new\")     # returns a string with all occurrences of \"old\" replaced with \"new\""
   ]
  },
  {
   "cell_type": "markdown",
   "metadata": {},
   "source": [
    "If you want to access a part of a string, Python allows you to *slice* the string using the start and end indices.\n"
   ]
  },
  {
   "cell_type": "code",
   "execution_count": 10,
   "metadata": {},
   "outputs": [
    {
     "name": "stdout",
     "output_type": "stream",
     "text": [
      "ell\n",
      "ello\n",
      "hel\n",
      "hello\n"
     ]
    }
   ],
   "source": [
    "s = \"hello\"\n",
    "print(s[1:4])   # \"ell\"\n",
    "print(s[1:])    # \"ello\"\n",
    "print(s[:3])    # \"hel\"\n",
    "print(s[:])     # \"hello\""
   ]
  },
  {
   "cell_type": "markdown",
   "metadata": {},
   "source": [
    "------\n",
    "### Lists\n",
    "\n",
    "Instead of variables holding individual values, it is also possible to create a list of values in Python. Each item in the list is called an *element* and can be accessed individually using a zero-based index.\n"
   ]
  },
  {
   "cell_type": "code",
   "execution_count": 11,
   "metadata": {},
   "outputs": [
    {
     "name": "stdout",
     "output_type": "stream",
     "text": [
      "[1, 2, 3, 4, 5]\n",
      "2\n",
      "5\n"
     ]
    }
   ],
   "source": [
    "listOfNums = [1, 2, 3, 4, 5]\n",
    "print(listOfNums)\n",
    "print(listOfNums[1])\n",
    "print(len(listOfNums))"
   ]
  },
  {
   "cell_type": "markdown",
   "metadata": {},
   "source": [
    "------\n",
    "### Dictionaries\n",
    "\n",
    "Dictionaries in Python allow you to store key-value pairs. Keys are unique within a dictionary while values may be repeated. For example, a dictionary of names (keys) and ages (values). Because the keys are unique, they are used as the index of the dictionary to access the values."
   ]
  },
  {
   "cell_type": "code",
   "execution_count": 12,
   "metadata": {},
   "outputs": [
    {
     "name": "stdout",
     "output_type": "stream",
     "text": [
      "21\n",
      "24\n",
      "{'Bob': 21, 'Jake': 24, 'John': 23, 'Jane': 23}\n",
      "{'Bob': 24, 'Jake': 24, 'John': 23, 'Jane': 23}\n",
      "dict_keys(['Bob', 'Jake', 'John', 'Jane'])\n"
     ]
    }
   ],
   "source": [
    "ages = {\"Bob\" : 21, \"Jake\" : 24, \"John\" : 23}\n",
    "print(ages[\"Bob\"])   # 21\n",
    "print(ages[\"Jake\"])  # 24\n",
    "\n",
    "ages[\"Jane\"] = 23\n",
    "print(ages)  # {\"Bob\" : 21, \"Jake\" : 24, \"John\" : 23, \"Jane\" : 23}\n",
    "\n",
    "ages[\"Bob\"] = 24\n",
    "print(ages)  # {\"Bob\" : 24, \"Jake\" : 24, \"John\" : 23, \"Jane\" : 23}\n",
    "\n",
    "print(ages.keys())  # dict_keys([\"Bob\", \"Jake\", \"John\", \"Jane\"])"
   ]
  },
  {
   "cell_type": "markdown",
   "metadata": {},
   "source": [
    "------\n",
    "## Control Flow\n",
    "\n",
    "While sequentially executing code can perform a lot of tasks for us, many tasks require some subtask to be repeated or selectively executed. For example, if we want to calculate the average age in a classroom:\n"
   ]
  },
  {
   "cell_type": "code",
   "execution_count": null,
   "metadata": {
    "collapsed": true
   },
   "outputs": [],
   "source": [
    "total = 0\n",
    "numOfStudents = 0\n",
    "\n",
    "studentAge = int(input(\"What's your age? \"))\n",
    "total = total + studentAge\n",
    "numOfStudents = numOfStudents + 1\n",
    "\n",
    "studentAge = int(input(\"What's your age? \"))\n",
    "total = total + studentAge\n",
    "numOfStudents = numOfStudents + 1\n",
    "\n",
    "studentAge = int(input(\"What's your age? \"))\n",
    "total = total + studentAge\n",
    "numOfStudents = numOfStudents + 1\n",
    "\n",
    "average = total / numOfStudents\n",
    "print(average)"
   ]
  },
  {
   "cell_type": "markdown",
   "metadata": {},
   "source": [
    "Repeating the same lines of code is tedious and limits the reusability & maintainability of the code. For example, in the above code, if we just wanted to change the user prompt to `Enter your age:` instead, we would have to change many lines of code.\n",
    "\n",
    "------\n",
    "### if Statements\n",
    "\n",
    "`if` statements are one of the most important control flow tools available in programming. They allow the program to dynamically choose which lines of code to execute depending on a particular condition.\n"
   ]
  },
  {
   "cell_type": "markdown",
   "metadata": {
    "collapsed": true
   },
   "source": [
    "```python\n",
    "if <condition>:\n",
    "    # Statements here are executed if condition is True\n",
    "else:\n",
    "    # Statements here are executed if condition is False\n",
    "```"
   ]
  },
  {
   "cell_type": "markdown",
   "metadata": {},
   "source": [
    "```python\n",
    "if <conditionA>:\n",
    "    # Statements here are executed if conditionA is True\n",
    "elif <conditionB>:\n",
    "    # Statements here are executed if conditionA is False and conditionB is True\n",
    "else:\n",
    "    # Statements here are executed if conditionA and conditionB are False\n",
    "```"
   ]
  },
  {
   "cell_type": "markdown",
   "metadata": {},
   "source": [
    "A colon marks the beginning of a *block* and statements within each *block* are indented so that they can be distinguished from each other.\n",
    "\n",
    "#### Condition\n",
    "\n",
    "Conditions are *boolean expressions* that return either `True` or `False`. They are made up of *relational operators* and *logical operators*.\n",
    "\n",
    "##### Relational Operators\n",
    "\n",
    "1. `==`: equals to\n",
    "2. `!=`: not equals to\n",
    "3. `<` : smaller than\n",
    "4. `>` : greater than\n",
    "5. `<=`: smaller than or equals to\n",
    "6. `>=`: greater than or equals to\n",
    "\n",
    "```python\n",
    "if x == y:\n",
    "    print(\"x & y are equal.\")\n",
    "else:\n",
    "    print(\"x & y are not equal.\")\n",
    "```\n",
    "\n",
    "##### Logical Operators\n",
    "\n",
    "1. `boolExpr1 and boolExpr2`: Both expressions have to be `True` for the entire expression to be `True`\n",
    "2. `boolExpr1 or boolExpr2`: Either one expression has to be `True` for the entire expression to be `True`\n",
    "3. `not boolExpr`: Inverts the return value of the expression\n",
    "\n",
    "```python\n",
    "if (x == y) and (y == z):\n",
    "    print(\"x, y & z are equal.\")\n",
    "```\n"
   ]
  },
  {
   "cell_type": "markdown",
   "metadata": {},
   "source": [
    "------\n",
    "### Loops\n",
    "\n",
    "Loops in programming allow the same task to be executed repeatedly for a definite or indefinite number of times. They are made up of four main sections:\n",
    "\n",
    "1. **Initialize:** Initialize the loop control variable.\n",
    "2. **Test:** Continue the loop?\n",
    "3. **Loop Body:** Task being repeated.\n",
    "4. **Update:** Modify the loop control variable so that the next time we test, we *may* exit the loop.\n",
    "\n",
    "There are two main kinds of loops:\n",
    "\n",
    "1. **Counter Controlled:** The number of repetitions of the loop is known before the loop body starts executing.\n",
    "2. **Sentinel Controlled:** The number of repetitions of the loop is unknown before the loop body starts executing.\n",
    "\n",
    "#### while Loop\n",
    "\n",
    "A `while` loop executes while the given condition is `True` (i.e. until the given condition is `False`).\n",
    "\n",
    "```python\n",
    "while <condition>:\n",
    "    # Loop Body\n",
    "```\n",
    "\n",
    "For example, to print all the integers from 1 - 10:"
   ]
  },
  {
   "cell_type": "code",
   "execution_count": 17,
   "metadata": {},
   "outputs": [
    {
     "name": "stdout",
     "output_type": "stream",
     "text": [
      "1\n",
      "2\n",
      "3\n",
      "4\n",
      "5\n",
      "6\n",
      "7\n",
      "8\n",
      "9\n",
      "10\n"
     ]
    }
   ],
   "source": [
    "num = 1                 # Initialize\n",
    "while num <= 10:        # Test\n",
    "    print(num)          # Loop Body\n",
    "    num = num + 1       # Update"
   ]
  },
  {
   "cell_type": "markdown",
   "metadata": {},
   "source": [
    "An example of a sentinel controlled loop:\n"
   ]
  },
  {
   "cell_type": "code",
   "execution_count": 18,
   "metadata": {},
   "outputs": [
    {
     "name": "stdout",
     "output_type": "stream",
     "text": [
      "Guess a number from 1 - 10: 4\n",
      "Wrong! Guess a number from 1 - 10: 4\n",
      "Wrong! Guess a number from 1 - 10: 4\n",
      "Wrong! Guess a number from 1 - 10: 4\n",
      "Wrong! Guess a number from 1 - 10: 3\n",
      "Wrong! Guess a number from 1 - 10: 2\n",
      "Wrong! Guess a number from 1 - 10: 5\n",
      "Correct!\n"
     ]
    }
   ],
   "source": [
    "answer = 5\n",
    "guess = int(input(\"Guess a number from 1 - 10: \"))\n",
    "while guess != answer:\n",
    "    guess = int(input(\"Wrong! Guess a number from 1 - 10: \"))\n",
    "print(\"Correct!\")"
   ]
  },
  {
   "cell_type": "markdown",
   "metadata": {},
   "source": [
    "#### for Loop\n",
    "\n",
    "A `for` loop can be used to iterate through a list and perform tasks accordingly.\n",
    "\n",
    "```python\n",
    "for var in someList:\n",
    "    # Loop Body\n",
    "```"
   ]
  },
  {
   "cell_type": "markdown",
   "metadata": {},
   "source": [
    "In every iteration of the loop, the `var` variable will be assigned the next value in the list. For example, the code below will print all the elements in the list in separate lines:"
   ]
  },
  {
   "cell_type": "code",
   "execution_count": 20,
   "metadata": {},
   "outputs": [
    {
     "name": "stdout",
     "output_type": "stream",
     "text": [
      "2\n",
      "1\n",
      "4\n",
      "5\n",
      "3\n"
     ]
    }
   ],
   "source": [
    "numList = [2, 1, 4, 5, 3]\n",
    "for num in numList:\n",
    "    print(num)"
   ]
  },
  {
   "cell_type": "markdown",
   "metadata": {},
   "source": [
    "A `for` loop can also be used to iterate through a dictionary:\n"
   ]
  },
  {
   "cell_type": "code",
   "execution_count": 21,
   "metadata": {},
   "outputs": [
    {
     "name": "stdout",
     "output_type": "stream",
     "text": [
      "Bob : 555-555\n",
      "Jake : 555-556\n",
      "John : 555-565\n",
      "Jane : 555-655\n"
     ]
    }
   ],
   "source": [
    "phoneBook = {\"Bob\" : \"555-555\", \"Jake\" : \"555-556\", \"John\" : \"555-565\", \"Jane\" : \"555-655\"}\n",
    "for name in phoneBook.keys():\n",
    "    print(name + \" : \" + phoneBook[name])"
   ]
  },
  {
   "cell_type": "markdown",
   "metadata": {},
   "source": [
    "Alternatively, a `for` loop can be used like a `while` loop with a definite number of repetitions using the `range()` function. The `range()` function returns a list of integers from 0 up till but not including the passed argument.\n"
   ]
  },
  {
   "cell_type": "code",
   "execution_count": 22,
   "metadata": {},
   "outputs": [
    {
     "name": "stdout",
     "output_type": "stream",
     "text": [
      "0\n",
      "1\n",
      "2\n",
      "3\n",
      "4\n"
     ]
    }
   ],
   "source": [
    "for i in range(5):  # range(5) returns [0, 1, 2, 3, 4]\n",
    "    print(i)"
   ]
  },
  {
   "cell_type": "markdown",
   "metadata": {},
   "source": [
    "------\n",
    "## Functions\n",
    "\n",
    "Functions allow you to divide your code into chunks that do specific subtasks, which make your code more readable and reusable.\n",
    "\n",
    "```python\n",
    "# Define the function\n",
    "def functionName():\n",
    "    # Function Body\n",
    "\n",
    "functionName()  # Call the function\n",
    "```\n",
    "------\n",
    "### Parameters & Arguments\n",
    "\n",
    "Functions can be defined with *parameters*, which are essentially variables that are set when the function is called using *arguments*. This allows functions to be reused with different data values."
   ]
  },
  {
   "cell_type": "code",
   "execution_count": 24,
   "metadata": {},
   "outputs": [
    {
     "name": "stdout",
     "output_type": "stream",
     "text": [
      "5\n",
      "97\n"
     ]
    }
   ],
   "source": [
    "def sum(a, b):  # a & b are parameters\n",
    "    c = a + b\n",
    "    print(c)\n",
    "\n",
    "sum(3, 2)       # 3 & 2 are arguments\n",
    "sum(32, 65)     # 32 & 65 are arguments"
   ]
  },
  {
   "cell_type": "markdown",
   "metadata": {},
   "source": [
    "------\n",
    "### Return Values\n",
    "\n",
    "Functions can also return values back to where the function was called so that the result can be further used."
   ]
  },
  {
   "cell_type": "code",
   "execution_count": 26,
   "metadata": {},
   "outputs": [
    {
     "name": "stdout",
     "output_type": "stream",
     "text": [
      "3\n"
     ]
    }
   ],
   "source": [
    "def sum(a, b):\n",
    "    c = a + b\n",
    "    return c\n",
    "\n",
    "s = sum(1, 2)   # s is set to the value of c from sum()\n",
    "print(s)"
   ]
  }
 ],
 "metadata": {
  "kernelspec": {
   "display_name": "Python 3",
   "language": "python",
   "name": "python3"
  },
  "language_info": {
   "codemirror_mode": {
    "name": "ipython",
    "version": 3
   },
   "file_extension": ".py",
   "mimetype": "text/x-python",
   "name": "python",
   "nbconvert_exporter": "python",
   "pygments_lexer": "ipython3",
   "version": "3.6.1"
  }
 },
 "nbformat": 4,
 "nbformat_minor": 2
}
